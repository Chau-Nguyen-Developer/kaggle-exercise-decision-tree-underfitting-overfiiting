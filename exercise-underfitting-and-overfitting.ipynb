{
 "cells": [
  {
   "cell_type": "markdown",
   "id": "84fd31ea",
   "metadata": {
    "papermill": {
     "duration": 0.003874,
     "end_time": "2025-08-08T08:04:07.976056",
     "exception": false,
     "start_time": "2025-08-08T08:04:07.972182",
     "status": "completed"
    },
    "tags": []
   },
   "source": [
    "**This notebook is an exercise in the [Introduction to Machine Learning](https://www.kaggle.com/learn/intro-to-machine-learning) course.  You can reference the tutorial at [this link](https://www.kaggle.com/dansbecker/underfitting-and-overfitting).**\n",
    "\n",
    "---\n"
   ]
  },
  {
   "cell_type": "markdown",
   "id": "a62073e7",
   "metadata": {
    "papermill": {
     "duration": 0.002775,
     "end_time": "2025-08-08T08:04:07.982024",
     "exception": false,
     "start_time": "2025-08-08T08:04:07.979249",
     "status": "completed"
    },
    "tags": []
   },
   "source": [
    "## Recap\n",
    "You've built your first model, and now it's time to optimize the size of the tree to make better predictions. Run this cell to set up your coding environment where the previous step left off."
   ]
  },
  {
   "cell_type": "code",
   "execution_count": 1,
   "id": "3a501809",
   "metadata": {
    "execution": {
     "iopub.execute_input": "2025-08-08T08:04:07.989534Z",
     "iopub.status.busy": "2025-08-08T08:04:07.989224Z",
     "iopub.status.idle": "2025-08-08T08:04:12.068342Z",
     "shell.execute_reply": "2025-08-08T08:04:12.067392Z"
    },
    "papermill": {
     "duration": 4.085119,
     "end_time": "2025-08-08T08:04:12.070108",
     "exception": false,
     "start_time": "2025-08-08T08:04:07.984989",
     "status": "completed"
    },
    "tags": []
   },
   "outputs": [
    {
     "name": "stdout",
     "output_type": "stream",
     "text": [
      "Validation MAE: 29,653\n",
      "\n",
      "Setup complete\n"
     ]
    }
   ],
   "source": [
    "# Code you have previously used to load data\n",
    "# IMPORT LIBRARIES\n",
    "import pandas as pd\n",
    "from sklearn.metrics import mean_absolute_error\n",
    "from sklearn.model_selection import train_test_split\n",
    "from sklearn.tree import DecisionTreeRegressor\n",
    "\n",
    "# READ FILE\n",
    "# Path of the file to read\n",
    "iowa_file_path = '../input/home-data-for-ml-course/train.csv'\n",
    "\n",
    "#READ CSV (COMMA-SEPARATED-FILE) INTO A PANDAS DATAFRAME\n",
    "home_data = pd.read_csv(iowa_file_path)\n",
    "\n",
    "# CREATE TARGET OBJECT and call it y\n",
    "y = home_data.SalePrice\n",
    "\n",
    "# Create X that contains the features that I want to consider. I may only choose some of them from original file.\n",
    "features = ['LotArea', 'YearBuilt', '1stFlrSF', '2ndFlrSF', 'FullBath', 'BedroomAbvGr', 'TotRmsAbvGrd']\n",
    "X = home_data[features]\n",
    "\n",
    "\n",
    "# Split into validation and training data\n",
    "# If I do not specify a random state, I will get a different split each time.\n",
    "train_X, val_X, train_y, val_y = train_test_split(X, y, random_state=1)\n",
    "\n",
    "# Specify Model\n",
    "iowa_model = DecisionTreeRegressor(random_state=1)\n",
    "\n",
    "# Fit Model\n",
    "iowa_model.fit(train_X, train_y)\n",
    "\n",
    "# Make validation predictions and calculate mean absolute error\n",
    "val_predictions = iowa_model.predict(val_X)\n",
    "\n",
    "\n",
    "#Compare the predictions with the true values\n",
    "val_mae = mean_absolute_error(val_predictions, val_y)\n",
    "\n",
    "#Print out MAE\n",
    "print(\"Validation MAE: {:,.0f}\".format(val_mae))\n",
    "\n",
    "# Set up code checking\n",
    "from learntools.core import binder\n",
    "binder.bind(globals())\n",
    "from learntools.machine_learning.ex5 import *\n",
    "print(\"\\nSetup complete\")"
   ]
  },
  {
   "cell_type": "code",
   "execution_count": 2,
   "id": "c5ce89d5",
   "metadata": {
    "execution": {
     "iopub.execute_input": "2025-08-08T08:04:12.084250Z",
     "iopub.status.busy": "2025-08-08T08:04:12.083349Z",
     "iopub.status.idle": "2025-08-08T08:04:12.088649Z",
     "shell.execute_reply": "2025-08-08T08:04:12.087723Z"
    },
    "papermill": {
     "duration": 0.01431,
     "end_time": "2025-08-08T08:04:12.090466",
     "exception": false,
     "start_time": "2025-08-08T08:04:12.076156",
     "status": "completed"
    },
    "tags": []
   },
   "outputs": [
    {
     "name": "stdout",
     "output_type": "stream",
     "text": [
      "25\n"
     ]
    }
   ],
   "source": [
    "print(iowa_model.get_depth()) "
   ]
  },
  {
   "cell_type": "markdown",
   "id": "1c51636d",
   "metadata": {
    "papermill": {
     "duration": 0.005526,
     "end_time": "2025-08-08T08:04:12.101864",
     "exception": false,
     "start_time": "2025-08-08T08:04:12.096338",
     "status": "completed"
    },
    "tags": []
   },
   "source": [
    "# Exercises\n",
    "You could write the function `get_mae` yourself. For now, we'll supply it. This is the same function you read about in the previous lesson. Just run the cell below."
   ]
  },
  {
   "cell_type": "code",
   "execution_count": 3,
   "id": "543e747a",
   "metadata": {
    "execution": {
     "iopub.execute_input": "2025-08-08T08:04:12.115154Z",
     "iopub.status.busy": "2025-08-08T08:04:12.114335Z",
     "iopub.status.idle": "2025-08-08T08:04:12.119609Z",
     "shell.execute_reply": "2025-08-08T08:04:12.118815Z"
    },
    "papermill": {
     "duration": 0.013626,
     "end_time": "2025-08-08T08:04:12.121244",
     "exception": false,
     "start_time": "2025-08-08T08:04:12.107618",
     "status": "completed"
    },
    "tags": []
   },
   "outputs": [],
   "source": [
    "def get_mae(chosen_max_leaf_nodes, train_X, val_X, train_y, val_y):\n",
    "    model = DecisionTreeRegressor(max_leaf_nodes=chosen_max_leaf_nodes, random_state=0)\n",
    "    model.fit(train_X, train_y)\n",
    "    # Do predictions\n",
    "    preds_val = model.predict(val_X)\n",
    "    mae = mean_absolute_error(preds_val, val_y)"
   ]
  },
  {
   "cell_type": "markdown",
   "id": "1db6fa22",
   "metadata": {
    "papermill": {
     "duration": 0.003221,
     "end_time": "2025-08-08T08:04:12.128013",
     "exception": false,
     "start_time": "2025-08-08T08:04:12.124792",
     "status": "completed"
    },
    "tags": []
   },
   "source": [
    "### My note: I wrote the function myself again to get familiar with the materials. "
   ]
  },
  {
   "cell_type": "code",
   "execution_count": 4,
   "id": "615a2584",
   "metadata": {
    "execution": {
     "iopub.execute_input": "2025-08-08T08:04:12.136157Z",
     "iopub.status.busy": "2025-08-08T08:04:12.135709Z",
     "iopub.status.idle": "2025-08-08T08:04:12.142041Z",
     "shell.execute_reply": "2025-08-08T08:04:12.141060Z"
    },
    "papermill": {
     "duration": 0.012614,
     "end_time": "2025-08-08T08:04:12.143928",
     "exception": false,
     "start_time": "2025-08-08T08:04:12.131314",
     "status": "completed"
    },
    "tags": []
   },
   "outputs": [],
   "source": [
    "def chau_get_mean_absolute_error(given_max_leaf_nodes, train_X, val_X, train_y, val_y):\n",
    "    my_model = DecisionTreeRegressor(max_leaf_nodes=given_max_leaf_nodes, random_state=14)\n",
    "    my_model.fit(train_X, train_y)\n",
    "    predicted_values = my_model.predict(val_X)\n",
    "    mae = mean_absolute_error(val_y, predicted_values)\n",
    "    return mae"
   ]
  },
  {
   "cell_type": "markdown",
   "id": "bee24e52",
   "metadata": {
    "papermill": {
     "duration": 0.005501,
     "end_time": "2025-08-08T08:04:12.155321",
     "exception": false,
     "start_time": "2025-08-08T08:04:12.149820",
     "status": "completed"
    },
    "tags": []
   },
   "source": [
    "## Step 1: Compare Different Tree Sizes\n",
    "Write a loop that tries the following values for *max_leaf_nodes* from a set of possible values.\n",
    "\n",
    "Call the *get_mae* function on each value of max_leaf_nodes. Store the output in some way that allows you to select the value of `max_leaf_nodes` that gives the most accurate model on your data."
   ]
  },
  {
   "cell_type": "code",
   "execution_count": 5,
   "id": "8b0b445a",
   "metadata": {
    "execution": {
     "iopub.execute_input": "2025-08-08T08:04:12.165407Z",
     "iopub.status.busy": "2025-08-08T08:04:12.165014Z",
     "iopub.status.idle": "2025-08-08T08:04:12.217744Z",
     "shell.execute_reply": "2025-08-08T08:04:12.216814Z"
    },
    "papermill": {
     "duration": 0.058891,
     "end_time": "2025-08-08T08:04:12.219586",
     "exception": false,
     "start_time": "2025-08-08T08:04:12.160695",
     "status": "completed"
    },
    "tags": []
   },
   "outputs": [
    {
     "name": "stdout",
     "output_type": "stream",
     "text": [
      "Max leaf nodes: 5 \n",
      " Mean Absolute Error: 35044\n",
      "Max leaf nodes: 25 \n",
      " Mean Absolute Error: 29016\n",
      "Max leaf nodes: 50 \n",
      " Mean Absolute Error: 27734\n",
      "Max leaf nodes: 100 \n",
      " Mean Absolute Error: 27611\n",
      "Max leaf nodes: 250 \n",
      " Mean Absolute Error: 28271\n",
      "Max leaf nodes: 500 \n",
      " Mean Absolute Error: 29591\n",
      "100\n"
     ]
    },
    {
     "data": {
      "application/javascript": [
       "parent.postMessage({\"jupyterEvent\": \"custom.exercise_interaction\", \"data\": {\"outcomeType\": 1, \"valueTowardsCompletion\": 0.5, \"interactionType\": 1, \"questionType\": 1, \"questionId\": \"1_BestTreeSize\", \"learnToolsVersion\": \"0.3.5\", \"failureMessage\": \"\", \"exceptionClass\": \"\", \"trace\": \"\"}}, \"*\")"
      ],
      "text/plain": [
       "<IPython.core.display.Javascript object>"
      ]
     },
     "metadata": {},
     "output_type": "display_data"
    },
    {
     "data": {
      "text/markdown": [
       "<span style=\"color:#33cc33\">Correct</span>"
      ],
      "text/plain": [
       "Correct"
      ]
     },
     "metadata": {},
     "output_type": "display_data"
    }
   ],
   "source": [
    "candidate_max_leaf_nodes = [5, 25, 50, 100, 250, 500]\n",
    "# Write loop to find the ideal tree size from candidate_max_leaf_nodes\n",
    "for max_node in candidate_max_leaf_nodes:\n",
    "    my_mae = chau_get_mean_absolute_error(max_node,train_X, val_X, train_y, val_y)\n",
    "    if(max_node == 5):\n",
    "        lowest_mae = my_mae\n",
    "    else:\n",
    "        if(my_mae < lowest_mae):\n",
    "            lowest_mae = my_mae\n",
    "            best_tree_size = max_node\n",
    "    print(\"Max leaf nodes: %d \\n Mean Absolute Error: %d\" %(max_node, my_mae))\n",
    "    \n",
    "\n",
    "# Store the best value of max_leaf_nodes (it will be either 5, 25, 50, 100, 250 or 500)\n",
    "print(best_tree_size)\n",
    "\n",
    "# Check your answer\n",
    "step_1.check()"
   ]
  },
  {
   "cell_type": "code",
   "execution_count": 6,
   "id": "c45979b9",
   "metadata": {
    "execution": {
     "iopub.execute_input": "2025-08-08T08:04:12.234812Z",
     "iopub.status.busy": "2025-08-08T08:04:12.233941Z",
     "iopub.status.idle": "2025-08-08T08:04:12.239100Z",
     "shell.execute_reply": "2025-08-08T08:04:12.238014Z"
    },
    "papermill": {
     "duration": 0.014681,
     "end_time": "2025-08-08T08:04:12.240556",
     "exception": false,
     "start_time": "2025-08-08T08:04:12.225875",
     "status": "completed"
    },
    "tags": []
   },
   "outputs": [
    {
     "name": "stdout",
     "output_type": "stream",
     "text": [
      "100\n"
     ]
    }
   ],
   "source": [
    "print(best_tree_size)"
   ]
  },
  {
   "cell_type": "markdown",
   "id": "04d375fd",
   "metadata": {
    "papermill": {
     "duration": 0.003186,
     "end_time": "2025-08-08T08:04:12.247341",
     "exception": false,
     "start_time": "2025-08-08T08:04:12.244155",
     "status": "completed"
    },
    "tags": []
   },
   "source": [
    "## My note: \n",
    "1. I used the for-loop to try out different number of leafs and retrieve the mean_average_error (MAE) for each tree.\n",
    "2. I set the first MAE of the 5-leaves tree as my base, and I used that number as the benchmark to compare the MAE of other trees.\n",
    "3. Once I identified the lowest mean_average_error, I traced back to see which tree it is and stored the number of its leaves.\n",
    "4. Another way is creating a dictionary and storing the MAE in correspondence to the number of leaves, and then loop through again to do comparison; however, it is not sufficient in terms of memory and time. I created a new variable inside the loop and did a comparison along the way. "
   ]
  },
  {
   "cell_type": "code",
   "execution_count": 7,
   "id": "5067c1e4",
   "metadata": {
    "execution": {
     "iopub.execute_input": "2025-08-08T08:04:12.255641Z",
     "iopub.status.busy": "2025-08-08T08:04:12.255260Z",
     "iopub.status.idle": "2025-08-08T08:04:12.259860Z",
     "shell.execute_reply": "2025-08-08T08:04:12.258875Z"
    },
    "papermill": {
     "duration": 0.010952,
     "end_time": "2025-08-08T08:04:12.261690",
     "exception": false,
     "start_time": "2025-08-08T08:04:12.250738",
     "status": "completed"
    },
    "tags": []
   },
   "outputs": [],
   "source": [
    "# The lines below will show you a hint or the solution.\n",
    "# step_1.hint() \n",
    "# step_1.solution()"
   ]
  },
  {
   "cell_type": "markdown",
   "id": "07f1fcae",
   "metadata": {
    "papermill": {
     "duration": 0.00603,
     "end_time": "2025-08-08T08:04:12.274076",
     "exception": false,
     "start_time": "2025-08-08T08:04:12.268046",
     "status": "completed"
    },
    "tags": []
   },
   "source": [
    "## Step 2: Fit Model Using All Data\n",
    "You know the best tree size. If you were going to deploy this model in practice, you would make it even more accurate by using all of the data and keeping that tree size.  That is, you don't need to hold out the validation data now that you've made all your modeling decisions."
   ]
  },
  {
   "cell_type": "code",
   "execution_count": 8,
   "id": "0b4992da",
   "metadata": {
    "execution": {
     "iopub.execute_input": "2025-08-08T08:04:12.283127Z",
     "iopub.status.busy": "2025-08-08T08:04:12.282698Z",
     "iopub.status.idle": "2025-08-08T08:04:12.301528Z",
     "shell.execute_reply": "2025-08-08T08:04:12.300480Z"
    },
    "papermill": {
     "duration": 0.024965,
     "end_time": "2025-08-08T08:04:12.303057",
     "exception": false,
     "start_time": "2025-08-08T08:04:12.278092",
     "status": "completed"
    },
    "tags": []
   },
   "outputs": [
    {
     "data": {
      "application/javascript": [
       "parent.postMessage({\"jupyterEvent\": \"custom.exercise_interaction\", \"data\": {\"outcomeType\": 1, \"valueTowardsCompletion\": 0.5, \"interactionType\": 1, \"questionType\": 2, \"questionId\": \"2_FitModelWithAllData\", \"learnToolsVersion\": \"0.3.5\", \"failureMessage\": \"\", \"exceptionClass\": \"\", \"trace\": \"\"}}, \"*\")"
      ],
      "text/plain": [
       "<IPython.core.display.Javascript object>"
      ]
     },
     "metadata": {},
     "output_type": "display_data"
    },
    {
     "data": {
      "text/markdown": [
       "<span style=\"color:#33cc33\">Correct</span>"
      ],
      "text/plain": [
       "Correct"
      ]
     },
     "metadata": {},
     "output_type": "display_data"
    }
   ],
   "source": [
    "# Fill in argument to make optimal size and uncomment\n",
    "final_model = DecisionTreeRegressor(max_leaf_nodes=best_tree_size)\n",
    "\n",
    "# fit the final model and uncomment the next two lines\n",
    "final_model.fit(X, y)\n",
    "\n",
    "# Check your answer\n",
    "step_2.check()"
   ]
  },
  {
   "cell_type": "code",
   "execution_count": 9,
   "id": "86f9c36f",
   "metadata": {
    "execution": {
     "iopub.execute_input": "2025-08-08T08:04:12.313113Z",
     "iopub.status.busy": "2025-08-08T08:04:12.312702Z",
     "iopub.status.idle": "2025-08-08T08:04:12.316932Z",
     "shell.execute_reply": "2025-08-08T08:04:12.316009Z"
    },
    "papermill": {
     "duration": 0.011208,
     "end_time": "2025-08-08T08:04:12.318391",
     "exception": false,
     "start_time": "2025-08-08T08:04:12.307183",
     "status": "completed"
    },
    "tags": []
   },
   "outputs": [],
   "source": [
    "# step_2.hint()\n",
    "# step_2.solution()"
   ]
  },
  {
   "cell_type": "markdown",
   "id": "e07107af",
   "metadata": {
    "papermill": {
     "duration": 0.003609,
     "end_time": "2025-08-08T08:04:12.325920",
     "exception": false,
     "start_time": "2025-08-08T08:04:12.322311",
     "status": "completed"
    },
    "tags": []
   },
   "source": [
    "You've tuned this model and improved your results. But we are still using Decision Tree models, which are not very sophisticated by modern machine learning standards. In the next step you will learn to use Random Forests to improve your models even more.\n",
    "\n",
    "# Keep Going\n",
    "\n",
    "You are ready for **[Random Forests](https://www.kaggle.com/dansbecker/random-forests).**\n"
   ]
  },
  {
   "cell_type": "markdown",
   "id": "f46e0736",
   "metadata": {
    "papermill": {
     "duration": 0.003546,
     "end_time": "2025-08-08T08:04:12.333509",
     "exception": false,
     "start_time": "2025-08-08T08:04:12.329963",
     "status": "completed"
    },
    "tags": []
   },
   "source": [
    "---\n",
    "\n",
    "\n",
    "\n",
    "\n",
    "*Have questions or comments? Visit the [course discussion forum](https://www.kaggle.com/learn/intro-to-machine-learning/discussion) to chat with other learners.*"
   ]
  }
 ],
 "metadata": {
  "kaggle": {
   "accelerator": "none",
   "dataSources": [
    {
     "databundleVersionId": 111096,
     "sourceId": 10211,
     "sourceType": "competition"
    },
    {
     "datasetId": 11167,
     "sourceId": 15520,
     "sourceType": "datasetVersion"
    },
    {
     "datasetId": 2709,
     "sourceId": 38454,
     "sourceType": "datasetVersion"
    }
   ],
   "isGpuEnabled": false,
   "isInternetEnabled": false,
   "language": "python",
   "sourceType": "notebook"
  },
  "kernelspec": {
   "display_name": "Python 3",
   "language": "python",
   "name": "python3"
  },
  "language_info": {
   "codemirror_mode": {
    "name": "ipython",
    "version": 3
   },
   "file_extension": ".py",
   "mimetype": "text/x-python",
   "name": "python",
   "nbconvert_exporter": "python",
   "pygments_lexer": "ipython3",
   "version": "3.11.13"
  },
  "papermill": {
   "default_parameters": {},
   "duration": 9.859442,
   "end_time": "2025-08-08T08:04:13.058036",
   "environment_variables": {},
   "exception": null,
   "input_path": "__notebook__.ipynb",
   "output_path": "__notebook__.ipynb",
   "parameters": {},
   "start_time": "2025-08-08T08:04:03.198594",
   "version": "2.6.0"
  }
 },
 "nbformat": 4,
 "nbformat_minor": 5
}
