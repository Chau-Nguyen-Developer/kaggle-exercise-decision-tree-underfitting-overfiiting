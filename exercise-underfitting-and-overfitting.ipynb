{
 "cells": [
  {
   "cell_type": "markdown",
   "id": "512fcd3c",
   "metadata": {
    "papermill": {
     "duration": 0.003567,
     "end_time": "2025-07-13T22:12:44.255370",
     "exception": false,
     "start_time": "2025-07-13T22:12:44.251803",
     "status": "completed"
    },
    "tags": []
   },
   "source": [
    "**This notebook is an exercise in the [Introduction to Machine Learning](https://www.kaggle.com/learn/intro-to-machine-learning) course.  You can reference the tutorial at [this link](https://www.kaggle.com/dansbecker/underfitting-and-overfitting).**\n",
    "\n",
    "---\n"
   ]
  },
  {
   "cell_type": "markdown",
   "id": "56d2a8f8",
   "metadata": {
    "papermill": {
     "duration": 0.002767,
     "end_time": "2025-07-13T22:12:44.261600",
     "exception": false,
     "start_time": "2025-07-13T22:12:44.258833",
     "status": "completed"
    },
    "tags": []
   },
   "source": [
    "## Recap\n",
    "You've built your first model, and now it's time to optimize the size of the tree to make better predictions. Run this cell to set up your coding environment where the previous step left off."
   ]
  },
  {
   "cell_type": "code",
   "execution_count": 1,
   "id": "87bf78e4",
   "metadata": {
    "execution": {
     "iopub.execute_input": "2025-07-13T22:12:44.268741Z",
     "iopub.status.busy": "2025-07-13T22:12:44.268440Z",
     "iopub.status.idle": "2025-07-13T22:12:48.098326Z",
     "shell.execute_reply": "2025-07-13T22:12:48.097402Z"
    },
    "papermill": {
     "duration": 3.835298,
     "end_time": "2025-07-13T22:12:48.099861",
     "exception": false,
     "start_time": "2025-07-13T22:12:44.264563",
     "status": "completed"
    },
    "tags": []
   },
   "outputs": [
    {
     "name": "stdout",
     "output_type": "stream",
     "text": [
      "Validation MAE: 29,653\n",
      "\n",
      "Setup complete\n"
     ]
    }
   ],
   "source": [
    "# Code you have previously used to load data\n",
    "import pandas as pd\n",
    "from sklearn.metrics import mean_absolute_error\n",
    "from sklearn.model_selection import train_test_split\n",
    "from sklearn.tree import DecisionTreeRegressor\n",
    "\n",
    "\n",
    "# Path of the file to read\n",
    "iowa_file_path = '../input/home-data-for-ml-course/train.csv'\n",
    "\n",
    "home_data = pd.read_csv(iowa_file_path)\n",
    "# Create target object and call it y\n",
    "y = home_data.SalePrice\n",
    "# Create X\n",
    "features = ['LotArea', 'YearBuilt', '1stFlrSF', '2ndFlrSF', 'FullBath', 'BedroomAbvGr', 'TotRmsAbvGrd']\n",
    "X = home_data[features]\n",
    "\n",
    "# Split into validation and training data\n",
    "train_X, val_X, train_y, val_y = train_test_split(X, y, random_state=1)\n",
    "\n",
    "# Specify Model\n",
    "iowa_model = DecisionTreeRegressor(random_state=1)\n",
    "# Fit Model\n",
    "iowa_model.fit(train_X, train_y)\n",
    "\n",
    "# Make validation predictions and calculate mean absolute error\n",
    "val_predictions = iowa_model.predict(val_X)\n",
    "val_mae = mean_absolute_error(val_predictions, val_y)\n",
    "print(\"Validation MAE: {:,.0f}\".format(val_mae))\n",
    "\n",
    "# Set up code checking\n",
    "from learntools.core import binder\n",
    "binder.bind(globals())\n",
    "from learntools.machine_learning.ex5 import *\n",
    "print(\"\\nSetup complete\")"
   ]
  },
  {
   "cell_type": "markdown",
   "id": "d45be44b",
   "metadata": {
    "papermill": {
     "duration": 0.00274,
     "end_time": "2025-07-13T22:12:48.105880",
     "exception": false,
     "start_time": "2025-07-13T22:12:48.103140",
     "status": "completed"
    },
    "tags": []
   },
   "source": [
    "# Exercises\n",
    "You could write the function `get_mae` yourself. For now, we'll supply it. This is the same function you read about in the previous lesson. Just run the cell below."
   ]
  },
  {
   "cell_type": "code",
   "execution_count": 2,
   "id": "5a3e76a6",
   "metadata": {
    "execution": {
     "iopub.execute_input": "2025-07-13T22:12:48.113215Z",
     "iopub.status.busy": "2025-07-13T22:12:48.112564Z",
     "iopub.status.idle": "2025-07-13T22:12:48.116607Z",
     "shell.execute_reply": "2025-07-13T22:12:48.115744Z"
    },
    "papermill": {
     "duration": 0.009267,
     "end_time": "2025-07-13T22:12:48.118028",
     "exception": false,
     "start_time": "2025-07-13T22:12:48.108761",
     "status": "completed"
    },
    "tags": []
   },
   "outputs": [],
   "source": [
    "# def get_mae(max_leaf_nodes, train_X, val_X, train_y, val_y):\n",
    "#     model = DecisionTreeRegressor(max_leaf_nodes=max_leaf_nodes, random_state=0)\n",
    "#     model.fit(train_X, train_y)\n",
    "#     preds_val = model.predict(val_X)\n",
    "#     mae = mean_absolute_error(val_y, preds_val)\n",
    "#     return(mae)"
   ]
  },
  {
   "cell_type": "markdown",
   "id": "b2244c94",
   "metadata": {
    "papermill": {
     "duration": 0.004281,
     "end_time": "2025-07-13T22:12:48.125452",
     "exception": false,
     "start_time": "2025-07-13T22:12:48.121171",
     "status": "completed"
    },
    "tags": []
   },
   "source": [
    "### My note: I wrote the function myself again to get familiar with the materials. "
   ]
  },
  {
   "cell_type": "code",
   "execution_count": 3,
   "id": "19c501e1",
   "metadata": {
    "execution": {
     "iopub.execute_input": "2025-07-13T22:12:48.135990Z",
     "iopub.status.busy": "2025-07-13T22:12:48.135031Z",
     "iopub.status.idle": "2025-07-13T22:12:48.142436Z",
     "shell.execute_reply": "2025-07-13T22:12:48.141398Z"
    },
    "papermill": {
     "duration": 0.013913,
     "end_time": "2025-07-13T22:12:48.143941",
     "exception": false,
     "start_time": "2025-07-13T22:12:48.130028",
     "status": "completed"
    },
    "tags": []
   },
   "outputs": [],
   "source": [
    "def chau_get_mean_absolute_error(given_max_leaf_nodes, train_X, val_X, train_y, val_y):\n",
    "    my_model = DecisionTreeRegressor(max_leaf_nodes=given_max_leaf_nodes, random_state=14)\n",
    "    my_model.fit(train_X, train_y)\n",
    "    predicted_values = my_model.predict(val_X)\n",
    "    mae = mean_absolute_error(val_y, predicted_values)\n",
    "    return mae"
   ]
  },
  {
   "cell_type": "markdown",
   "id": "5c13d763",
   "metadata": {
    "papermill": {
     "duration": 0.002854,
     "end_time": "2025-07-13T22:12:48.150603",
     "exception": false,
     "start_time": "2025-07-13T22:12:48.147749",
     "status": "completed"
    },
    "tags": []
   },
   "source": [
    "## Step 1: Compare Different Tree Sizes\n",
    "Write a loop that tries the following values for *max_leaf_nodes* from a set of possible values.\n",
    "\n",
    "Call the *get_mae* function on each value of max_leaf_nodes. Store the output in some way that allows you to select the value of `max_leaf_nodes` that gives the most accurate model on your data."
   ]
  },
  {
   "cell_type": "code",
   "execution_count": 4,
   "id": "68e76058",
   "metadata": {
    "execution": {
     "iopub.execute_input": "2025-07-13T22:12:48.158686Z",
     "iopub.status.busy": "2025-07-13T22:12:48.158241Z",
     "iopub.status.idle": "2025-07-13T22:12:48.206875Z",
     "shell.execute_reply": "2025-07-13T22:12:48.205949Z"
    },
    "papermill": {
     "duration": 0.054052,
     "end_time": "2025-07-13T22:12:48.208235",
     "exception": false,
     "start_time": "2025-07-13T22:12:48.154183",
     "status": "completed"
    },
    "tags": []
   },
   "outputs": [
    {
     "name": "stdout",
     "output_type": "stream",
     "text": [
      "Max leaf nodes: 5 \n",
      " Mean Absolute Error: 35044\n",
      "Max leaf nodes: 25 \n",
      " Mean Absolute Error: 29016\n",
      "Max leaf nodes: 50 \n",
      " Mean Absolute Error: 27734\n",
      "Max leaf nodes: 100 \n",
      " Mean Absolute Error: 27611\n",
      "Max leaf nodes: 250 \n",
      " Mean Absolute Error: 28271\n",
      "Max leaf nodes: 500 \n",
      " Mean Absolute Error: 29591\n",
      "100\n"
     ]
    },
    {
     "data": {
      "application/javascript": [
       "parent.postMessage({\"jupyterEvent\": \"custom.exercise_interaction\", \"data\": {\"outcomeType\": 1, \"valueTowardsCompletion\": 0.5, \"interactionType\": 1, \"questionType\": 1, \"questionId\": \"1_BestTreeSize\", \"learnToolsVersion\": \"0.3.5\", \"failureMessage\": \"\", \"exceptionClass\": \"\", \"trace\": \"\"}}, \"*\")"
      ],
      "text/plain": [
       "<IPython.core.display.Javascript object>"
      ]
     },
     "metadata": {},
     "output_type": "display_data"
    },
    {
     "data": {
      "text/markdown": [
       "<span style=\"color:#33cc33\">Correct</span>"
      ],
      "text/plain": [
       "Correct"
      ]
     },
     "metadata": {},
     "output_type": "display_data"
    }
   ],
   "source": [
    "candidate_max_leaf_nodes = [5, 25, 50, 100, 250, 500]\n",
    "# Write loop to find the ideal tree size from candidate_max_leaf_nodes\n",
    "for max_node in candidate_max_leaf_nodes:\n",
    "    my_mae = chau_get_mean_absolute_error(max_node,train_X, val_X, train_y, val_y)\n",
    "    if(max_node == 5):\n",
    "        lowest_mae = my_mae\n",
    "    else:\n",
    "        if(my_mae < lowest_mae):\n",
    "            lowest_mae = my_mae\n",
    "            best_tree_size = max_node\n",
    "    print(\"Max leaf nodes: %d \\n Mean Absolute Error: %d\" %(max_node, my_mae))\n",
    "    \n",
    "\n",
    "# Store the best value of max_leaf_nodes (it will be either 5, 25, 50, 100, 250 or 500)\n",
    "print(best_tree_size)\n",
    "\n",
    "# Check your answer\n",
    "step_1.check()"
   ]
  },
  {
   "cell_type": "code",
   "execution_count": 5,
   "id": "82966530",
   "metadata": {
    "execution": {
     "iopub.execute_input": "2025-07-13T22:12:48.215740Z",
     "iopub.status.busy": "2025-07-13T22:12:48.215451Z",
     "iopub.status.idle": "2025-07-13T22:12:48.219866Z",
     "shell.execute_reply": "2025-07-13T22:12:48.219146Z"
    },
    "papermill": {
     "duration": 0.00956,
     "end_time": "2025-07-13T22:12:48.221111",
     "exception": false,
     "start_time": "2025-07-13T22:12:48.211551",
     "status": "completed"
    },
    "tags": []
   },
   "outputs": [
    {
     "name": "stdout",
     "output_type": "stream",
     "text": [
      "100\n"
     ]
    }
   ],
   "source": [
    "print(best_tree_size)"
   ]
  },
  {
   "cell_type": "markdown",
   "id": "d5b67ff9",
   "metadata": {
    "papermill": {
     "duration": 0.002943,
     "end_time": "2025-07-13T22:12:48.227389",
     "exception": false,
     "start_time": "2025-07-13T22:12:48.224446",
     "status": "completed"
    },
    "tags": []
   },
   "source": [
    "## My note: \n",
    "1. I used the for-loop to try out different number of leafs and retrieve the mean_average_error (MAE) for each tree.\n",
    "2. I set the first MAE of the 5-leaves tree as my base, and I used that number as the benchmark to compare the MAE of other trees.\n",
    "3. Once I identified the lowest mean_average_error, I traced back to see which tree it is and stored the number of its leaves.\n",
    "4. Another way is creating a dictionary and storing the MAE in correspondence to the number of leaves, and then loop through again to do comparison; however, it is not sufficient in terms of memory and time. I created a new variable inside the loop and did a comparison along the way. "
   ]
  },
  {
   "cell_type": "code",
   "execution_count": 6,
   "id": "c4157d9c",
   "metadata": {
    "execution": {
     "iopub.execute_input": "2025-07-13T22:12:48.234664Z",
     "iopub.status.busy": "2025-07-13T22:12:48.234367Z",
     "iopub.status.idle": "2025-07-13T22:12:48.238102Z",
     "shell.execute_reply": "2025-07-13T22:12:48.237253Z"
    },
    "papermill": {
     "duration": 0.008997,
     "end_time": "2025-07-13T22:12:48.239472",
     "exception": false,
     "start_time": "2025-07-13T22:12:48.230475",
     "status": "completed"
    },
    "tags": []
   },
   "outputs": [],
   "source": [
    "# The lines below will show you a hint or the solution.\n",
    "# step_1.hint() \n",
    "# step_1.solution()"
   ]
  },
  {
   "cell_type": "markdown",
   "id": "e7fa40e8",
   "metadata": {
    "papermill": {
     "duration": 0.002888,
     "end_time": "2025-07-13T22:12:48.246533",
     "exception": false,
     "start_time": "2025-07-13T22:12:48.243645",
     "status": "completed"
    },
    "tags": []
   },
   "source": [
    "## Step 2: Fit Model Using All Data\n",
    "You know the best tree size. If you were going to deploy this model in practice, you would make it even more accurate by using all of the data and keeping that tree size.  That is, you don't need to hold out the validation data now that you've made all your modeling decisions."
   ]
  },
  {
   "cell_type": "code",
   "execution_count": 7,
   "id": "c46d43af",
   "metadata": {
    "execution": {
     "iopub.execute_input": "2025-07-13T22:12:48.253951Z",
     "iopub.status.busy": "2025-07-13T22:12:48.253504Z",
     "iopub.status.idle": "2025-07-13T22:12:48.260619Z",
     "shell.execute_reply": "2025-07-13T22:12:48.259852Z"
    },
    "papermill": {
     "duration": 0.012395,
     "end_time": "2025-07-13T22:12:48.261984",
     "exception": false,
     "start_time": "2025-07-13T22:12:48.249589",
     "status": "completed"
    },
    "tags": []
   },
   "outputs": [
    {
     "data": {
      "application/javascript": [
       "parent.postMessage({\"jupyterEvent\": \"custom.exercise_interaction\", \"data\": {\"outcomeType\": 2, \"failureMessage\": \"You still need to define the following variables: `final_model`\", \"interactionType\": 1, \"questionType\": 2, \"questionId\": \"2_FitModelWithAllData\", \"learnToolsVersion\": \"0.3.5\", \"valueTowardsCompletion\": 0.0, \"exceptionClass\": \"\", \"trace\": \"\"}}, \"*\")"
      ],
      "text/plain": [
       "<IPython.core.display.Javascript object>"
      ]
     },
     "metadata": {},
     "output_type": "display_data"
    },
    {
     "data": {
      "text/markdown": [
       "<span style=\"color:#cc3333\">Incorrect:</span> You still need to define the following variables: `final_model`"
      ],
      "text/plain": [
       "Incorrect: You still need to define the following variables: `final_model`"
      ]
     },
     "metadata": {},
     "output_type": "display_data"
    }
   ],
   "source": [
    "# Fill in argument to make optimal size and uncomment\n",
    "# final_model = DecisionTreeRegressor(____)\n",
    "\n",
    "# fit the final model and uncomment the next two lines\n",
    "# final_model.fit(____, ____)\n",
    "\n",
    "# Check your answer\n",
    "step_2.check()"
   ]
  },
  {
   "cell_type": "code",
   "execution_count": 8,
   "id": "bcbe6aae",
   "metadata": {
    "execution": {
     "iopub.execute_input": "2025-07-13T22:12:48.270907Z",
     "iopub.status.busy": "2025-07-13T22:12:48.270199Z",
     "iopub.status.idle": "2025-07-13T22:12:48.274253Z",
     "shell.execute_reply": "2025-07-13T22:12:48.273434Z"
    },
    "papermill": {
     "duration": 0.009842,
     "end_time": "2025-07-13T22:12:48.275637",
     "exception": false,
     "start_time": "2025-07-13T22:12:48.265795",
     "status": "completed"
    },
    "tags": []
   },
   "outputs": [],
   "source": [
    "# step_2.hint()\n",
    "# step_2.solution()"
   ]
  },
  {
   "cell_type": "markdown",
   "id": "1bbe69da",
   "metadata": {
    "papermill": {
     "duration": 0.003342,
     "end_time": "2025-07-13T22:12:48.282741",
     "exception": false,
     "start_time": "2025-07-13T22:12:48.279399",
     "status": "completed"
    },
    "tags": []
   },
   "source": [
    "You've tuned this model and improved your results. But we are still using Decision Tree models, which are not very sophisticated by modern machine learning standards. In the next step you will learn to use Random Forests to improve your models even more.\n",
    "\n",
    "# Keep Going\n",
    "\n",
    "You are ready for **[Random Forests](https://www.kaggle.com/dansbecker/random-forests).**\n"
   ]
  },
  {
   "cell_type": "markdown",
   "id": "c357040f",
   "metadata": {
    "papermill": {
     "duration": 0.003139,
     "end_time": "2025-07-13T22:12:48.289290",
     "exception": false,
     "start_time": "2025-07-13T22:12:48.286151",
     "status": "completed"
    },
    "tags": []
   },
   "source": [
    "---\n",
    "\n",
    "\n",
    "\n",
    "\n",
    "*Have questions or comments? Visit the [course discussion forum](https://www.kaggle.com/learn/intro-to-machine-learning/discussion) to chat with other learners.*"
   ]
  }
 ],
 "metadata": {
  "kaggle": {
   "accelerator": "none",
   "dataSources": [
    {
     "databundleVersionId": 111096,
     "sourceId": 10211,
     "sourceType": "competition"
    },
    {
     "datasetId": 11167,
     "sourceId": 15520,
     "sourceType": "datasetVersion"
    },
    {
     "datasetId": 2709,
     "sourceId": 38454,
     "sourceType": "datasetVersion"
    }
   ],
   "isGpuEnabled": false,
   "isInternetEnabled": false,
   "language": "python",
   "sourceType": "notebook"
  },
  "kernelspec": {
   "display_name": "Python 3",
   "language": "python",
   "name": "python3"
  },
  "language_info": {
   "codemirror_mode": {
    "name": "ipython",
    "version": 3
   },
   "file_extension": ".py",
   "mimetype": "text/x-python",
   "name": "python",
   "nbconvert_exporter": "python",
   "pygments_lexer": "ipython3",
   "version": "3.11.13"
  },
  "papermill": {
   "default_parameters": {},
   "duration": 9.555254,
   "end_time": "2025-07-13T22:12:49.013420",
   "environment_variables": {},
   "exception": null,
   "input_path": "__notebook__.ipynb",
   "output_path": "__notebook__.ipynb",
   "parameters": {},
   "start_time": "2025-07-13T22:12:39.458166",
   "version": "2.6.0"
  }
 },
 "nbformat": 4,
 "nbformat_minor": 5
}
