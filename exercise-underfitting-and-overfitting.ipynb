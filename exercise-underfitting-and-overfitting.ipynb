{
 "cells": [
  {
   "cell_type": "markdown",
   "id": "53cdbf48",
   "metadata": {
    "papermill": {
     "duration": 0.003843,
     "end_time": "2025-08-08T05:30:15.654402",
     "exception": false,
     "start_time": "2025-08-08T05:30:15.650559",
     "status": "completed"
    },
    "tags": []
   },
   "source": [
    "**This notebook is an exercise in the [Introduction to Machine Learning](https://www.kaggle.com/learn/intro-to-machine-learning) course.  You can reference the tutorial at [this link](https://www.kaggle.com/dansbecker/underfitting-and-overfitting).**\n",
    "\n",
    "---\n"
   ]
  },
  {
   "cell_type": "markdown",
   "id": "5ad7b507",
   "metadata": {
    "papermill": {
     "duration": 0.002667,
     "end_time": "2025-08-08T05:30:15.660266",
     "exception": false,
     "start_time": "2025-08-08T05:30:15.657599",
     "status": "completed"
    },
    "tags": []
   },
   "source": [
    "## Recap\n",
    "You've built your first model, and now it's time to optimize the size of the tree to make better predictions. Run this cell to set up your coding environment where the previous step left off."
   ]
  },
  {
   "cell_type": "code",
   "execution_count": 1,
   "id": "31292c0b",
   "metadata": {
    "execution": {
     "iopub.execute_input": "2025-08-08T05:30:15.667454Z",
     "iopub.status.busy": "2025-08-08T05:30:15.667166Z",
     "iopub.status.idle": "2025-08-08T05:30:19.753392Z",
     "shell.execute_reply": "2025-08-08T05:30:19.752290Z"
    },
    "papermill": {
     "duration": 4.091896,
     "end_time": "2025-08-08T05:30:19.755042",
     "exception": false,
     "start_time": "2025-08-08T05:30:15.663146",
     "status": "completed"
    },
    "tags": []
   },
   "outputs": [
    {
     "name": "stdout",
     "output_type": "stream",
     "text": [
      "Validation MAE: 29,653\n",
      "\n",
      "Setup complete\n"
     ]
    }
   ],
   "source": [
    "# Code you have previously used to load data\n",
    "# IMPORT LIBRARIES\n",
    "import pandas as pd\n",
    "from sklearn.metrics import mean_absolute_error\n",
    "from sklearn.model_selection import train_test_split\n",
    "from sklearn.tree import DecisionTreeRegressor\n",
    "\n",
    "# READ FILE\n",
    "# Path of the file to read\n",
    "iowa_file_path = '../input/home-data-for-ml-course/train.csv'\n",
    "\n",
    "#READ CSV (COMMA-SEPARATED-FILE) INTO A PANDAS DATAFRAME\n",
    "home_data = pd.read_csv(iowa_file_path)\n",
    "\n",
    "# CREATE TARGET OBJECT and call it y\n",
    "y = home_data.SalePrice\n",
    "\n",
    "# Create X that contains the features that I want to consider. I may only choose some of them from original file.\n",
    "features = ['LotArea', 'YearBuilt', '1stFlrSF', '2ndFlrSF', 'FullBath', 'BedroomAbvGr', 'TotRmsAbvGrd']\n",
    "X = home_data[features]\n",
    "\n",
    "\n",
    "# Split into validation and training data\n",
    "# train_X, val_X, train_y, val_y = train_test_split(X, y, random_state=1)\n",
    "# If I do not specify a random state, I will get a different split each time.\n",
    "train_X, val_X, train_y, val_y = train_test_split(X, y, random_state=1)\n",
    "\n",
    "# Specify Model\n",
    "# iowa_model = DecisionTreeRegressor(random_state=1)\n",
    "iowa_model = DecisionTreeRegressor(random_state=1)\n",
    "# Fit Model\n",
    "# iowa_model.fit(train_X, train_y)\n",
    "# Fit Model\n",
    "iowa_model.fit(train_X, train_y)\n",
    "\n",
    "# Make validation predictions and calculate mean absolute error\n",
    "# val_predictions = iowa_model.predict(val_X)\n",
    "val_predictions = iowa_model.predict(val_X)\n",
    "\n",
    "#val_mae = mean_absolute_error(val_predictions, val_y)\n",
    "#Compare the predictions with the true values\n",
    "val_mae = mean_absolute_error(val_predictions, val_y)\n",
    "#print(\"Validation MAE: {:,.0f}\".format(val_mae))\n",
    "print(\"Validation MAE: {:,.0f}\".format(val_mae))\n",
    "\n",
    "# Set up code checking\n",
    "from learntools.core import binder\n",
    "binder.bind(globals())\n",
    "from learntools.machine_learning.ex5 import *\n",
    "print(\"\\nSetup complete\")"
   ]
  },
  {
   "cell_type": "markdown",
   "id": "c51ac46a",
   "metadata": {
    "papermill": {
     "duration": 0.002768,
     "end_time": "2025-08-08T05:30:19.761009",
     "exception": false,
     "start_time": "2025-08-08T05:30:19.758241",
     "status": "completed"
    },
    "tags": []
   },
   "source": [
    "# Exercises\n",
    "You could write the function `get_mae` yourself. For now, we'll supply it. This is the same function you read about in the previous lesson. Just run the cell below."
   ]
  },
  {
   "cell_type": "code",
   "execution_count": 2,
   "id": "b43553e7",
   "metadata": {
    "execution": {
     "iopub.execute_input": "2025-08-08T05:30:19.768292Z",
     "iopub.status.busy": "2025-08-08T05:30:19.767657Z",
     "iopub.status.idle": "2025-08-08T05:30:19.772765Z",
     "shell.execute_reply": "2025-08-08T05:30:19.771828Z"
    },
    "papermill": {
     "duration": 0.01054,
     "end_time": "2025-08-08T05:30:19.774452",
     "exception": false,
     "start_time": "2025-08-08T05:30:19.763912",
     "status": "completed"
    },
    "tags": []
   },
   "outputs": [],
   "source": [
    "# def get_mae(max_leaf_nodes, train_X, val_X, train_y, val_y):\n",
    "#     model = DecisionTreeRegressor(max_leaf_nodes=max_leaf_nodes, random_state=0)\n",
    "#     model.fit(train_X, train_y)\n",
    "#     preds_val = model.predict(val_X)\n",
    "#     mae = mean_absolute_error(val_y, preds_val)\n",
    "#     return(mae)\n",
    "def get_mae(chosen_max_leaf_nodes, train_X, val_X, train_y, val_y):\n",
    "    model = DecisionTreeRegressor(max_leaf_nodes=chosen_max_leaf_nodes, random_state=0)\n",
    "    model.fit(train_X, train_y)\n",
    "    # Do predictions\n",
    "    preds_val = model.predict(val_X)\n",
    "    mae = mean_absolute_error(preds_val, val_y)"
   ]
  },
  {
   "cell_type": "markdown",
   "id": "84929095",
   "metadata": {
    "papermill": {
     "duration": 0.002744,
     "end_time": "2025-08-08T05:30:19.780233",
     "exception": false,
     "start_time": "2025-08-08T05:30:19.777489",
     "status": "completed"
    },
    "tags": []
   },
   "source": [
    "### My note: I wrote the function myself again to get familiar with the materials. "
   ]
  },
  {
   "cell_type": "code",
   "execution_count": 3,
   "id": "4adad0aa",
   "metadata": {
    "execution": {
     "iopub.execute_input": "2025-08-08T05:30:19.787340Z",
     "iopub.status.busy": "2025-08-08T05:30:19.786997Z",
     "iopub.status.idle": "2025-08-08T05:30:19.791682Z",
     "shell.execute_reply": "2025-08-08T05:30:19.790962Z"
    },
    "papermill": {
     "duration": 0.009714,
     "end_time": "2025-08-08T05:30:19.792942",
     "exception": false,
     "start_time": "2025-08-08T05:30:19.783228",
     "status": "completed"
    },
    "tags": []
   },
   "outputs": [],
   "source": [
    "def chau_get_mean_absolute_error(given_max_leaf_nodes, train_X, val_X, train_y, val_y):\n",
    "    my_model = DecisionTreeRegressor(max_leaf_nodes=given_max_leaf_nodes, random_state=14)\n",
    "    my_model.fit(train_X, train_y)\n",
    "    predicted_values = my_model.predict(val_X)\n",
    "    mae = mean_absolute_error(val_y, predicted_values)\n",
    "    return mae"
   ]
  },
  {
   "cell_type": "markdown",
   "id": "ad91f1ae",
   "metadata": {
    "papermill": {
     "duration": 0.002714,
     "end_time": "2025-08-08T05:30:19.798686",
     "exception": false,
     "start_time": "2025-08-08T05:30:19.795972",
     "status": "completed"
    },
    "tags": []
   },
   "source": [
    "## Step 1: Compare Different Tree Sizes\n",
    "Write a loop that tries the following values for *max_leaf_nodes* from a set of possible values.\n",
    "\n",
    "Call the *get_mae* function on each value of max_leaf_nodes. Store the output in some way that allows you to select the value of `max_leaf_nodes` that gives the most accurate model on your data."
   ]
  },
  {
   "cell_type": "code",
   "execution_count": 4,
   "id": "fe00e0e8",
   "metadata": {
    "execution": {
     "iopub.execute_input": "2025-08-08T05:30:19.805626Z",
     "iopub.status.busy": "2025-08-08T05:30:19.805317Z",
     "iopub.status.idle": "2025-08-08T05:30:19.849385Z",
     "shell.execute_reply": "2025-08-08T05:30:19.848619Z"
    },
    "papermill": {
     "duration": 0.049131,
     "end_time": "2025-08-08T05:30:19.850676",
     "exception": false,
     "start_time": "2025-08-08T05:30:19.801545",
     "status": "completed"
    },
    "tags": []
   },
   "outputs": [
    {
     "name": "stdout",
     "output_type": "stream",
     "text": [
      "Max leaf nodes: 5 \n",
      " Mean Absolute Error: 35044\n",
      "Max leaf nodes: 25 \n",
      " Mean Absolute Error: 29016\n",
      "Max leaf nodes: 50 \n",
      " Mean Absolute Error: 27734\n",
      "Max leaf nodes: 100 \n",
      " Mean Absolute Error: 27611\n",
      "Max leaf nodes: 250 \n",
      " Mean Absolute Error: 28271\n",
      "Max leaf nodes: 500 \n",
      " Mean Absolute Error: 29591\n",
      "100\n"
     ]
    },
    {
     "data": {
      "application/javascript": [
       "parent.postMessage({\"jupyterEvent\": \"custom.exercise_interaction\", \"data\": {\"outcomeType\": 1, \"valueTowardsCompletion\": 0.5, \"interactionType\": 1, \"questionType\": 1, \"questionId\": \"1_BestTreeSize\", \"learnToolsVersion\": \"0.3.5\", \"failureMessage\": \"\", \"exceptionClass\": \"\", \"trace\": \"\"}}, \"*\")"
      ],
      "text/plain": [
       "<IPython.core.display.Javascript object>"
      ]
     },
     "metadata": {},
     "output_type": "display_data"
    },
    {
     "data": {
      "text/markdown": [
       "<span style=\"color:#33cc33\">Correct</span>"
      ],
      "text/plain": [
       "Correct"
      ]
     },
     "metadata": {},
     "output_type": "display_data"
    }
   ],
   "source": [
    "candidate_max_leaf_nodes = [5, 25, 50, 100, 250, 500]\n",
    "# Write loop to find the ideal tree size from candidate_max_leaf_nodes\n",
    "for max_node in candidate_max_leaf_nodes:\n",
    "    my_mae = chau_get_mean_absolute_error(max_node,train_X, val_X, train_y, val_y)\n",
    "    if(max_node == 5):\n",
    "        lowest_mae = my_mae\n",
    "    else:\n",
    "        if(my_mae < lowest_mae):\n",
    "            lowest_mae = my_mae\n",
    "            best_tree_size = max_node\n",
    "    print(\"Max leaf nodes: %d \\n Mean Absolute Error: %d\" %(max_node, my_mae))\n",
    "    \n",
    "\n",
    "# Store the best value of max_leaf_nodes (it will be either 5, 25, 50, 100, 250 or 500)\n",
    "print(best_tree_size)\n",
    "\n",
    "# Check your answer\n",
    "step_1.check()"
   ]
  },
  {
   "cell_type": "code",
   "execution_count": 5,
   "id": "62cc2096",
   "metadata": {
    "execution": {
     "iopub.execute_input": "2025-08-08T05:30:19.858313Z",
     "iopub.status.busy": "2025-08-08T05:30:19.858020Z",
     "iopub.status.idle": "2025-08-08T05:30:19.862480Z",
     "shell.execute_reply": "2025-08-08T05:30:19.861673Z"
    },
    "papermill": {
     "duration": 0.009678,
     "end_time": "2025-08-08T05:30:19.863734",
     "exception": false,
     "start_time": "2025-08-08T05:30:19.854056",
     "status": "completed"
    },
    "tags": []
   },
   "outputs": [
    {
     "name": "stdout",
     "output_type": "stream",
     "text": [
      "100\n"
     ]
    }
   ],
   "source": [
    "print(best_tree_size)"
   ]
  },
  {
   "cell_type": "markdown",
   "id": "1c690795",
   "metadata": {
    "papermill": {
     "duration": 0.002943,
     "end_time": "2025-08-08T05:30:19.869966",
     "exception": false,
     "start_time": "2025-08-08T05:30:19.867023",
     "status": "completed"
    },
    "tags": []
   },
   "source": [
    "## My note: \n",
    "1. I used the for-loop to try out different number of leafs and retrieve the mean_average_error (MAE) for each tree.\n",
    "2. I set the first MAE of the 5-leaves tree as my base, and I used that number as the benchmark to compare the MAE of other trees.\n",
    "3. Once I identified the lowest mean_average_error, I traced back to see which tree it is and stored the number of its leaves.\n",
    "4. Another way is creating a dictionary and storing the MAE in correspondence to the number of leaves, and then loop through again to do comparison; however, it is not sufficient in terms of memory and time. I created a new variable inside the loop and did a comparison along the way. "
   ]
  },
  {
   "cell_type": "code",
   "execution_count": 6,
   "id": "463ea71a",
   "metadata": {
    "execution": {
     "iopub.execute_input": "2025-08-08T05:30:19.878504Z",
     "iopub.status.busy": "2025-08-08T05:30:19.877943Z",
     "iopub.status.idle": "2025-08-08T05:30:19.881471Z",
     "shell.execute_reply": "2025-08-08T05:30:19.880813Z"
    },
    "papermill": {
     "duration": 0.00873,
     "end_time": "2025-08-08T05:30:19.882768",
     "exception": false,
     "start_time": "2025-08-08T05:30:19.874038",
     "status": "completed"
    },
    "tags": []
   },
   "outputs": [],
   "source": [
    "# The lines below will show you a hint or the solution.\n",
    "# step_1.hint() \n",
    "# step_1.solution()"
   ]
  },
  {
   "cell_type": "markdown",
   "id": "26bd3fe2",
   "metadata": {
    "papermill": {
     "duration": 0.003018,
     "end_time": "2025-08-08T05:30:19.889128",
     "exception": false,
     "start_time": "2025-08-08T05:30:19.886110",
     "status": "completed"
    },
    "tags": []
   },
   "source": [
    "## Step 2: Fit Model Using All Data\n",
    "You know the best tree size. If you were going to deploy this model in practice, you would make it even more accurate by using all of the data and keeping that tree size.  That is, you don't need to hold out the validation data now that you've made all your modeling decisions."
   ]
  },
  {
   "cell_type": "code",
   "execution_count": 7,
   "id": "ef79a281",
   "metadata": {
    "execution": {
     "iopub.execute_input": "2025-08-08T05:30:19.896918Z",
     "iopub.status.busy": "2025-08-08T05:30:19.896375Z",
     "iopub.status.idle": "2025-08-08T05:30:19.910372Z",
     "shell.execute_reply": "2025-08-08T05:30:19.909596Z"
    },
    "papermill": {
     "duration": 0.019282,
     "end_time": "2025-08-08T05:30:19.911648",
     "exception": false,
     "start_time": "2025-08-08T05:30:19.892366",
     "status": "completed"
    },
    "tags": []
   },
   "outputs": [
    {
     "data": {
      "application/javascript": [
       "parent.postMessage({\"jupyterEvent\": \"custom.exercise_interaction\", \"data\": {\"outcomeType\": 1, \"valueTowardsCompletion\": 0.5, \"interactionType\": 1, \"questionType\": 2, \"questionId\": \"2_FitModelWithAllData\", \"learnToolsVersion\": \"0.3.5\", \"failureMessage\": \"\", \"exceptionClass\": \"\", \"trace\": \"\"}}, \"*\")"
      ],
      "text/plain": [
       "<IPython.core.display.Javascript object>"
      ]
     },
     "metadata": {},
     "output_type": "display_data"
    },
    {
     "data": {
      "text/markdown": [
       "<span style=\"color:#33cc33\">Correct</span>"
      ],
      "text/plain": [
       "Correct"
      ]
     },
     "metadata": {},
     "output_type": "display_data"
    }
   ],
   "source": [
    "# Fill in argument to make optimal size and uncomment\n",
    "final_model = DecisionTreeRegressor(max_leaf_nodes=best_tree_size)\n",
    "\n",
    "# fit the final model and uncomment the next two lines\n",
    "final_model.fit(X, y)\n",
    "\n",
    "# Check your answer\n",
    "step_2.check()"
   ]
  },
  {
   "cell_type": "code",
   "execution_count": 8,
   "id": "21441197",
   "metadata": {
    "execution": {
     "iopub.execute_input": "2025-08-08T05:30:19.919460Z",
     "iopub.status.busy": "2025-08-08T05:30:19.919199Z",
     "iopub.status.idle": "2025-08-08T05:30:19.922962Z",
     "shell.execute_reply": "2025-08-08T05:30:19.922129Z"
    },
    "papermill": {
     "duration": 0.009259,
     "end_time": "2025-08-08T05:30:19.924355",
     "exception": false,
     "start_time": "2025-08-08T05:30:19.915096",
     "status": "completed"
    },
    "tags": []
   },
   "outputs": [],
   "source": [
    "# step_2.hint()\n",
    "# step_2.solution()"
   ]
  },
  {
   "cell_type": "markdown",
   "id": "9ee7be5e",
   "metadata": {
    "papermill": {
     "duration": 0.003132,
     "end_time": "2025-08-08T05:30:19.931067",
     "exception": false,
     "start_time": "2025-08-08T05:30:19.927935",
     "status": "completed"
    },
    "tags": []
   },
   "source": [
    "You've tuned this model and improved your results. But we are still using Decision Tree models, which are not very sophisticated by modern machine learning standards. In the next step you will learn to use Random Forests to improve your models even more.\n",
    "\n",
    "# Keep Going\n",
    "\n",
    "You are ready for **[Random Forests](https://www.kaggle.com/dansbecker/random-forests).**\n"
   ]
  },
  {
   "cell_type": "markdown",
   "id": "305c7c7d",
   "metadata": {
    "papermill": {
     "duration": 0.003157,
     "end_time": "2025-08-08T05:30:19.937732",
     "exception": false,
     "start_time": "2025-08-08T05:30:19.934575",
     "status": "completed"
    },
    "tags": []
   },
   "source": [
    "---\n",
    "\n",
    "\n",
    "\n",
    "\n",
    "*Have questions or comments? Visit the [course discussion forum](https://www.kaggle.com/learn/intro-to-machine-learning/discussion) to chat with other learners.*"
   ]
  }
 ],
 "metadata": {
  "kaggle": {
   "accelerator": "none",
   "dataSources": [
    {
     "databundleVersionId": 111096,
     "sourceId": 10211,
     "sourceType": "competition"
    },
    {
     "datasetId": 11167,
     "sourceId": 15520,
     "sourceType": "datasetVersion"
    },
    {
     "datasetId": 2709,
     "sourceId": 38454,
     "sourceType": "datasetVersion"
    }
   ],
   "isGpuEnabled": false,
   "isInternetEnabled": false,
   "language": "python",
   "sourceType": "notebook"
  },
  "kernelspec": {
   "display_name": "Python 3",
   "language": "python",
   "name": "python3"
  },
  "language_info": {
   "codemirror_mode": {
    "name": "ipython",
    "version": 3
   },
   "file_extension": ".py",
   "mimetype": "text/x-python",
   "name": "python",
   "nbconvert_exporter": "python",
   "pygments_lexer": "ipython3",
   "version": "3.11.13"
  },
  "papermill": {
   "default_parameters": {},
   "duration": 9.725281,
   "end_time": "2025-08-08T05:30:20.560617",
   "environment_variables": {},
   "exception": null,
   "input_path": "__notebook__.ipynb",
   "output_path": "__notebook__.ipynb",
   "parameters": {},
   "start_time": "2025-08-08T05:30:10.835336",
   "version": "2.6.0"
  }
 },
 "nbformat": 4,
 "nbformat_minor": 5
}
